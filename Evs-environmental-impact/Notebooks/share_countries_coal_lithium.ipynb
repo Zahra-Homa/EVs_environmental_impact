{
 "cells": [
  {
   "cell_type": "code",
   "execution_count": 1,
   "id": "d2e75a23-1177-4731-b734-63cdc1e68b96",
   "metadata": {},
   "outputs": [],
   "source": [
    "import pandas as pd\n",
    "import seaborn as sns\n",
    "import matplotlib.pyplot as plt\n",
    "import numpy as np\n",
    "import requests "
   ]
  },
  {
   "cell_type": "markdown",
   "id": "4a9d12da-eb6b-4dad-8959-eaf48ae162ac",
   "metadata": {},
   "source": [
    "#### Import Data from OurWorldinData"
   ]
  },
  {
   "cell_type": "code",
   "execution_count": 2,
   "id": "55f98599-68a2-40ae-8c86-6e0818b5158f",
   "metadata": {},
   "outputs": [],
   "source": [
    "# Dataset: Share of electricity generated from fossil fuels\n",
    "# Source: Our World in Data \n",
    "# URL: https://ourworldindata.org/grapher/share-electricity-fossil-fuels\n",
    "\n",
    "electricity_from_fossil_fuels = pd.read_csv(\"https://ourworldindata.org/grapher/share-electricity-fossil-fuels.csv?v=1&csvType=full&useColumnShortNames=true\",\n",
    "                                            storage_options = {'User-Agent': 'Our World In Data data fetch/1.0'})\n",
    "elec_from_fossil_df = electricity_from_fossil_fuels.copy()\n"
   ]
  },
  {
   "cell_type": "markdown",
   "id": "feb6019b-3b84-444e-8903-7d30e94f15eb",
   "metadata": {},
   "source": [
    "### Explore the data"
   ]
  },
  {
   "cell_type": "code",
   "execution_count": 3,
   "id": "eb3ce84e-7a5a-4dae-9be3-8dc883e0820e",
   "metadata": {},
   "outputs": [
    {
     "name": "stdout",
     "output_type": "stream",
     "text": [
      "<class 'pandas.core.frame.DataFrame'>\n",
      "RangeIndex: 7084 entries, 0 to 7083\n",
      "Data columns (total 4 columns):\n",
      " #   Column                            Non-Null Count  Dtype  \n",
      "---  ------                            --------------  -----  \n",
      " 0   Entity                            7084 non-null   object \n",
      " 1   Code                              5901 non-null   object \n",
      " 2   Year                              7084 non-null   int64  \n",
      " 3   fossil_share_of_electricity__pct  7084 non-null   float64\n",
      "dtypes: float64(1), int64(1), object(2)\n",
      "memory usage: 221.5+ KB\n"
     ]
    }
   ],
   "source": [
    "elec_from_fossil_df.info()"
   ]
  },
  {
   "cell_type": "code",
   "execution_count": 4,
   "id": "3f60fc7e-3288-4d99-b799-fb7d97c70c84",
   "metadata": {},
   "outputs": [
    {
     "data": {
      "text/plain": [
       "Entity                                 0\n",
       "Code                                1183\n",
       "Year                                   0\n",
       "fossil_share_of_electricity__pct       0\n",
       "dtype: int64"
      ]
     },
     "execution_count": 4,
     "metadata": {},
     "output_type": "execute_result"
    }
   ],
   "source": [
    "elec_from_fossil_df.isna().sum()"
   ]
  },
  {
   "cell_type": "code",
   "execution_count": 5,
   "id": "cb7570b3-6ef7-4086-97a8-12cd7d0fe737",
   "metadata": {},
   "outputs": [
    {
     "data": {
      "text/html": [
       "<div>\n",
       "<style scoped>\n",
       "    .dataframe tbody tr th:only-of-type {\n",
       "        vertical-align: middle;\n",
       "    }\n",
       "\n",
       "    .dataframe tbody tr th {\n",
       "        vertical-align: top;\n",
       "    }\n",
       "\n",
       "    .dataframe thead th {\n",
       "        text-align: right;\n",
       "    }\n",
       "</style>\n",
       "<table border=\"1\" class=\"dataframe\">\n",
       "  <thead>\n",
       "    <tr style=\"text-align: right;\">\n",
       "      <th></th>\n",
       "      <th>Entity</th>\n",
       "      <th>Code</th>\n",
       "      <th>Year</th>\n",
       "      <th>fossil_share_of_electricity__pct</th>\n",
       "    </tr>\n",
       "  </thead>\n",
       "  <tbody>\n",
       "    <tr>\n",
       "      <th>0</th>\n",
       "      <td>ASEAN (Ember)</td>\n",
       "      <td>NaN</td>\n",
       "      <td>2000</td>\n",
       "      <td>80.652916</td>\n",
       "    </tr>\n",
       "    <tr>\n",
       "      <th>1</th>\n",
       "      <td>ASEAN (Ember)</td>\n",
       "      <td>NaN</td>\n",
       "      <td>2001</td>\n",
       "      <td>80.933680</td>\n",
       "    </tr>\n",
       "    <tr>\n",
       "      <th>2</th>\n",
       "      <td>ASEAN (Ember)</td>\n",
       "      <td>NaN</td>\n",
       "      <td>2002</td>\n",
       "      <td>82.335700</td>\n",
       "    </tr>\n",
       "    <tr>\n",
       "      <th>3</th>\n",
       "      <td>ASEAN (Ember)</td>\n",
       "      <td>NaN</td>\n",
       "      <td>2003</td>\n",
       "      <td>83.327515</td>\n",
       "    </tr>\n",
       "    <tr>\n",
       "      <th>4</th>\n",
       "      <td>ASEAN (Ember)</td>\n",
       "      <td>NaN</td>\n",
       "      <td>2004</td>\n",
       "      <td>84.299990</td>\n",
       "    </tr>\n",
       "  </tbody>\n",
       "</table>\n",
       "</div>"
      ],
      "text/plain": [
       "          Entity Code  Year  fossil_share_of_electricity__pct\n",
       "0  ASEAN (Ember)  NaN  2000                         80.652916\n",
       "1  ASEAN (Ember)  NaN  2001                         80.933680\n",
       "2  ASEAN (Ember)  NaN  2002                         82.335700\n",
       "3  ASEAN (Ember)  NaN  2003                         83.327515\n",
       "4  ASEAN (Ember)  NaN  2004                         84.299990"
      ]
     },
     "execution_count": 5,
     "metadata": {},
     "output_type": "execute_result"
    }
   ],
   "source": [
    "elec_from_fossil_df.head()"
   ]
  },
  {
   "cell_type": "code",
   "execution_count": 6,
   "id": "71e4eb0e-ed58-422d-9ec7-9c5fe3d71344",
   "metadata": {},
   "outputs": [
    {
     "data": {
      "text/plain": [
       "Entity\n",
       "Other CIS (EI)                    40\n",
       "China                             40\n",
       "France                            40\n",
       "Spain                             40\n",
       "South and Central America (EI)    40\n",
       "                                  ..\n",
       "Central African Republic          23\n",
       "East Timor                        21\n",
       "Montenegro                        20\n",
       "South Sudan                       12\n",
       "Western Sahara                    10\n",
       "Name: count, Length: 251, dtype: int64"
      ]
     },
     "execution_count": 6,
     "metadata": {},
     "output_type": "execute_result"
    }
   ],
   "source": [
    "elec_from_fossil_df['Entity'].value_counts()"
   ]
  },
  {
   "cell_type": "code",
   "execution_count": 7,
   "id": "170781e1-934f-409a-ba4b-80710ae10793",
   "metadata": {},
   "outputs": [
    {
     "data": {
      "text/plain": [
       "array([2000, 2001, 2002, 2003, 2004, 2005, 2006, 2007, 2008, 2009, 2010,\n",
       "       2011, 2012, 2013, 2014, 2015, 2016, 2017, 2018, 2019, 2020, 2021,\n",
       "       2022, 2023, 2024, 1985, 1986, 1987, 1988, 1989, 1990, 1991, 1992,\n",
       "       1993, 1994, 1995, 1996, 1997, 1998, 1999], dtype=int64)"
      ]
     },
     "execution_count": 7,
     "metadata": {},
     "output_type": "execute_result"
    }
   ],
   "source": [
    "elec_from_fossil_df['Year'].unique()"
   ]
  },
  {
   "cell_type": "code",
   "execution_count": 8,
   "id": "7efa4ed3-85ca-4641-a197-59b6412fa045",
   "metadata": {},
   "outputs": [],
   "source": [
    "elec_from_fossil_df = elec_from_fossil_df[elec_from_fossil_df['Year'] >= 2010]         # Filter dataset to include only data after 2010 "
   ]
  },
  {
   "cell_type": "code",
   "execution_count": 9,
   "id": "1ec0cfee-8170-4017-92a2-9c1b4a7cffc4",
   "metadata": {},
   "outputs": [
    {
     "data": {
      "text/plain": [
       "(3577, 4)"
      ]
     },
     "execution_count": 9,
     "metadata": {},
     "output_type": "execute_result"
    }
   ],
   "source": [
    "elec_from_fossil_df.shape"
   ]
  },
  {
   "cell_type": "code",
   "execution_count": 10,
   "id": "ca000e74-c5e7-45a3-8d7e-c1079c7fadad",
   "metadata": {},
   "outputs": [
    {
     "data": {
      "text/plain": [
       "(3577, 4)"
      ]
     },
     "execution_count": 10,
     "metadata": {},
     "output_type": "execute_result"
    }
   ],
   "source": [
    "elec_from_fossil_df.drop_duplicates().shape"
   ]
  },
  {
   "cell_type": "code",
   "execution_count": 11,
   "id": "639c6334-fe47-4f99-a01f-74c6ca393dd1",
   "metadata": {},
   "outputs": [
    {
     "data": {
      "text/plain": [
       "Entity                                0\n",
       "Code                                528\n",
       "Year                                  0\n",
       "fossil_share_of_electricity__pct      0\n",
       "dtype: int64"
      ]
     },
     "execution_count": 11,
     "metadata": {},
     "output_type": "execute_result"
    }
   ],
   "source": [
    "elec_from_fossil_df.isna().sum()"
   ]
  },
  {
   "cell_type": "code",
   "execution_count": 12,
   "id": "5626e38d-92e4-421f-8288-a564b311e899",
   "metadata": {},
   "outputs": [],
   "source": [
    "elec_from_fossil_2022 = elec_from_fossil_df[elec_from_fossil_df['Year'] == 2022]       # Filter dataset to include only electricity generation from fossil fuels in 2022"
   ]
  },
  {
   "cell_type": "code",
   "execution_count": 13,
   "id": "295a4439-8258-41f0-b38e-65fe94a70623",
   "metadata": {},
   "outputs": [
    {
     "data": {
      "text/html": [
       "<div>\n",
       "<style scoped>\n",
       "    .dataframe tbody tr th:only-of-type {\n",
       "        vertical-align: middle;\n",
       "    }\n",
       "\n",
       "    .dataframe tbody tr th {\n",
       "        vertical-align: top;\n",
       "    }\n",
       "\n",
       "    .dataframe thead th {\n",
       "        text-align: right;\n",
       "    }\n",
       "</style>\n",
       "<table border=\"1\" class=\"dataframe\">\n",
       "  <thead>\n",
       "    <tr style=\"text-align: right;\">\n",
       "      <th></th>\n",
       "      <th>Entity</th>\n",
       "      <th>Code</th>\n",
       "      <th>Year</th>\n",
       "      <th>fossil_share_of_electricity__pct</th>\n",
       "    </tr>\n",
       "  </thead>\n",
       "  <tbody>\n",
       "    <tr>\n",
       "      <th>22</th>\n",
       "      <td>ASEAN (Ember)</td>\n",
       "      <td>NaN</td>\n",
       "      <td>2022</td>\n",
       "      <td>71.917850</td>\n",
       "    </tr>\n",
       "    <tr>\n",
       "      <th>47</th>\n",
       "      <td>Afghanistan</td>\n",
       "      <td>AFG</td>\n",
       "      <td>2022</td>\n",
       "      <td>13.541666</td>\n",
       "    </tr>\n",
       "    <tr>\n",
       "      <th>86</th>\n",
       "      <td>Africa</td>\n",
       "      <td>NaN</td>\n",
       "      <td>2022</td>\n",
       "      <td>75.112090</td>\n",
       "    </tr>\n",
       "    <tr>\n",
       "      <th>125</th>\n",
       "      <td>Africa (EI)</td>\n",
       "      <td>NaN</td>\n",
       "      <td>2022</td>\n",
       "      <td>75.048340</td>\n",
       "    </tr>\n",
       "    <tr>\n",
       "      <th>150</th>\n",
       "      <td>Africa (Ember)</td>\n",
       "      <td>NaN</td>\n",
       "      <td>2022</td>\n",
       "      <td>75.114510</td>\n",
       "    </tr>\n",
       "  </tbody>\n",
       "</table>\n",
       "</div>"
      ],
      "text/plain": [
       "             Entity Code  Year  fossil_share_of_electricity__pct\n",
       "22    ASEAN (Ember)  NaN  2022                         71.917850\n",
       "47      Afghanistan  AFG  2022                         13.541666\n",
       "86           Africa  NaN  2022                         75.112090\n",
       "125     Africa (EI)  NaN  2022                         75.048340\n",
       "150  Africa (Ember)  NaN  2022                         75.114510"
      ]
     },
     "execution_count": 13,
     "metadata": {},
     "output_type": "execute_result"
    }
   ],
   "source": [
    "elec_from_fossil_2022.head()"
   ]
  },
  {
   "cell_type": "code",
   "execution_count": 14,
   "id": "f51e2af3-5e1d-4c2d-b6ff-5f272fbd7db1",
   "metadata": {},
   "outputs": [],
   "source": [
    "# Save the filtered dataset (2022 only) as a CSV\n",
    "# This file will later be used in Tableau for visualization\n",
    "\n",
    "elec_from_fossil_2022.to_csv(\"elec_from_fossil_2022.csv\")"
   ]
  },
  {
   "cell_type": "markdown",
   "id": "2184df48-32ec-4dc9-a98f-06357719fc79",
   "metadata": {},
   "source": [
    "---"
   ]
  },
  {
   "cell_type": "markdown",
   "id": "6db963db-1340-4708-b45a-5838689b875c",
   "metadata": {},
   "source": [
    "### Visualization: Average Share of Electricity from Fossil Fuels for 6 selected countries + world"
   ]
  },
  {
   "cell_type": "code",
   "execution_count": 16,
   "id": "af6b3958-c340-4814-806e-97457b97cabf",
   "metadata": {},
   "outputs": [],
   "source": [
    "# Calculate the average share of electricity from fossil fuel over world\n",
    "\n",
    "world_ave_elc_fossil = elec_from_fossil_df.groupby('Year').agg({'fossil_share_of_electricity__pct':'mean'})"
   ]
  },
  {
   "cell_type": "code",
   "execution_count": 17,
   "id": "8c04f15c-b229-46df-b630-ea0d0c097bfa",
   "metadata": {},
   "outputs": [],
   "source": [
    "selected_countries = ['France', 'Sweden', 'Germany', 'Poland', 'Spain','Italy']"
   ]
  },
  {
   "cell_type": "code",
   "execution_count": 18,
   "id": "85d7d7c8-f2a0-40c0-8bc4-9ea768b639d6",
   "metadata": {},
   "outputs": [],
   "source": [
    "selected_countries_df = elec_from_fossil_df[elec_from_fossil_df['Entity'].isin(selected_countries)]"
   ]
  },
  {
   "cell_type": "code",
   "execution_count": 19,
   "id": "868a04c2-05cb-421b-be37-42785184eaff",
   "metadata": {},
   "outputs": [
    {
     "data": {
      "image/png": "[encoded data removed]",
      "text/plain": [
       "<Figure size 1000x600 with 1 Axes>"
      ]
     },
     "metadata": {},
     "output_type": "display_data"
    }
   ],
   "source": [
    "sns.set_theme(style=\"whitegrid\")\n",
    "\n",
    "plt.figure(figsize=(10, 6))                       # plot the world average overtime(2010-2024)\n",
    "sns.lineplot(\n",
    "    data=world_ave_elc_fossil,\n",
    "    x='Year',\n",
    "    y='fossil_share_of_electricity__pct',\n",
    "    color='black',\n",
    "    linewidth=2.5\n",
    ")\n",
    "\n",
    "plt.text(x=2024+0.5,                             # write a text next to the line\n",
    "             y= world_ave_elc_fossil.loc[2024 , 'fossil_share_of_electricity__pct'],\n",
    "             s= f\"world ({world_ave_elc_fossil.loc[2024 , 'fossil_share_of_electricity__pct']:.1f}%)\",\n",
    "             fontsize=9,\n",
    "             va='center')\n",
    "\n",
    "sns.lineplot(                                    # plot the average CO2 emission for selected countries overtime(2010-2024)\n",
    "    data=selected_countries_df,\n",
    "    x='Year',\n",
    "    y='fossil_share_of_electricity__pct',\n",
    "    color='crimson',\n",
    "    hue='Entity',\n",
    "    linewidth=2.5\n",
    ")\n",
    "\n",
    "\n",
    "for Entity in selected_countries:                 # write the values and the name of countries next to the line\n",
    "    y_val = selected_countries_df.loc[\n",
    "        (selected_countries_df['Year'] == 2024) & \n",
    "        (selected_countries_df['Entity'] == Entity),\n",
    "        'fossil_share_of_electricity__pct']\n",
    "    plt.text(x=2024+0.5,\n",
    "             y=y_val.values[0],\n",
    "             s= f\"{Entity} ({y_val.values[0]:.1f}%)\",\n",
    "             fontsize=10,\n",
    "             va='center')\n",
    "\n",
    "for Entity in selected_countries:                 # write the values next to the point\n",
    "    y_val = selected_countries_df.loc[\n",
    "        (selected_countries_df['Year'] == 2022) & \n",
    "        (selected_countries_df['Entity'] == Entity),\n",
    "        'fossil_share_of_electricity__pct']\n",
    "    plt.text(x=2022,\n",
    "             y=y_val.values[0]+1.7,\n",
    "             s= f\"{y_val.values[0]:.1f}%\",\n",
    "             fontsize=11,\n",
    "             va='center')\n",
    "\n",
    "plt.title(\"Average Share of Electricity from Fossil Fuels\", fontsize=16, weight='bold')\n",
    "plt.xlabel(\"Year\", fontsize=12)\n",
    "plt.ylabel(\"Fossil Fuel Share (%)\", fontsize=14)\n",
    "\n",
    "plt.grid(True, linestyle=\"--\", alpha=0.6)\n",
    "\n",
    "plt.xlim(world_ave_elc_fossil.index.min(), world_ave_elc_fossil.index.max())\n",
    "plt.ylim(0, 100)\n",
    "\n",
    "plt.legend([],[], frameon=False)      # to remove legend\n",
    "plt.savefig(\"chart06.png\", dpi=300, bbox_inches='tight')\n",
    "plt.show()"
   ]
  },
  {
   "cell_type": "markdown",
   "id": "31615304-8824-4bd1-8d4f-c9b379c0768b",
   "metadata": {},
   "source": [
    "---"
   ]
  },
  {
   "cell_type": "markdown",
   "id": "e5152228-4dd9-42d5-918e-14facaa2f023",
   "metadata": {},
   "source": [
    "## Visualization:The amount of CO2 produced per KWh in 2022"
   ]
  },
  {
   "cell_type": "code",
   "execution_count": 20,
   "id": "89d58b9b-5a31-41f0-8814-a939c3fe9d5d",
   "metadata": {},
   "outputs": [],
   "source": [
    "carbon_intensity = pd.read_csv(\"https://ourworldindata.org/grapher/carbon-intensity-electricity.csv?v=1&csvType=full&useColumnShortNames=true\",\n",
    "                 storage_options = {'User-Agent': 'Our World In Data data fetch/1.0'})\n",
    "carbon_intensity_df = carbon_intensity.copy()"
   ]
  },
  {
   "cell_type": "code",
   "execution_count": 21,
   "id": "ee089190-b4a3-45b9-acab-232867aee5b4",
   "metadata": {},
   "outputs": [
    {
     "name": "stdout",
     "output_type": "stream",
     "text": [
      "<class 'pandas.core.frame.DataFrame'>\n",
      "RangeIndex: 5737 entries, 0 to 5736\n",
      "Data columns (total 4 columns):\n",
      " #   Column                   Non-Null Count  Dtype  \n",
      "---  ------                   --------------  -----  \n",
      " 0   Entity                   5737 non-null   object \n",
      " 1   Code                     5174 non-null   object \n",
      " 2   Year                     5737 non-null   int64  \n",
      " 3   co2_intensity__gco2_kwh  5737 non-null   float64\n",
      "dtypes: float64(1), int64(1), object(2)\n",
      "memory usage: 179.4+ KB\n"
     ]
    }
   ],
   "source": [
    "carbon_intensity_df.info()"
   ]
  },
  {
   "cell_type": "code",
   "execution_count": 22,
   "id": "76596b04-0dad-4a8f-90d6-fad76dddc7fa",
   "metadata": {},
   "outputs": [],
   "source": [
    "carbon_intensity_df = carbon_intensity_df[carbon_intensity_df['Year'] >= 2010]"
   ]
  },
  {
   "cell_type": "code",
   "execution_count": 23,
   "id": "7ea7ea1e-c232-4dca-823c-04190efea878",
   "metadata": {},
   "outputs": [],
   "source": [
    "carbon_int_6countries_df = carbon_intensity_df[(carbon_intensity_df['Entity'].isin(selected_countries)) & (carbon_intensity_df['Year'] ==2022)]"
   ]
  },
  {
   "cell_type": "code",
   "execution_count": 24,
   "id": "661398a2-3203-4821-a2e1-da48fe36802e",
   "metadata": {},
   "outputs": [],
   "source": [
    "filtered_df = carbon_int_6countries_df.sort_values(by=\"co2_intensity__gco2_kwh\",\n",
    "                                                   ascending=False)"
   ]
  },
  {
   "cell_type": "code",
   "execution_count": 25,
   "id": "8fed3edb-ff1a-4f99-9b74-f4ec6d4970ec",
   "metadata": {},
   "outputs": [
    {
     "data": {
      "image/png": "[encoded data removed]",
      "text/plain": [
       "<Figure size 600x500 with 1 Axes>"
      ]
     },
     "metadata": {},
     "output_type": "display_data"
    }
   ],
   "source": [
    "plt.figure(figsize=(6,5))\n",
    "sns.barplot(data=filtered_df,\n",
    "            y='co2_intensity__gco2_kwh',\n",
    "            x='Entity',\n",
    "            palette='viridis',\n",
    "            hue='Entity'\n",
    "           )\n",
    "for i,(entity,row) in enumerate(filtered_df.iterrows()):\n",
    "    plt.text(x=i,\n",
    "             y= row['co2_intensity__gco2_kwh'] + 5,\n",
    "             s=f\"{row['co2_intensity__gco2_kwh']:.1f}g\",\n",
    "             ha='center'\n",
    "            )\n",
    "plt.title('The amount of CO2 produced per KWh in 2022', fontsize=12, weight='bold')\n",
    "plt.xlabel('Country')\n",
    "plt.ylabel('CO2 intensity(g/kwh)')\n",
    "plt.legend([],[], frameon=False)\n",
    "plt.show()"
   ]
  },
  {
   "cell_type": "code",
   "execution_count": 26,
   "id": "f74d552d-9315-4182-bda4-bfb7ffd2962b",
   "metadata": {},
   "outputs": [
    {
     "data": {
      "text/html": [
       "<div>\n",
       "<style scoped>\n",
       "    .dataframe tbody tr th:only-of-type {\n",
       "        vertical-align: middle;\n",
       "    }\n",
       "\n",
       "    .dataframe tbody tr th {\n",
       "        vertical-align: top;\n",
       "    }\n",
       "\n",
       "    .dataframe thead th {\n",
       "        text-align: right;\n",
       "    }\n",
       "</style>\n",
       "<table border=\"1\" class=\"dataframe\">\n",
       "  <thead>\n",
       "    <tr style=\"text-align: right;\">\n",
       "      <th></th>\n",
       "      <th>Entity</th>\n",
       "      <th>Code</th>\n",
       "      <th>Year</th>\n",
       "      <th>co2_intensity__gco2_kwh</th>\n",
       "    </tr>\n",
       "  </thead>\n",
       "  <tbody>\n",
       "    <tr>\n",
       "      <th>4234</th>\n",
       "      <td>Poland</td>\n",
       "      <td>POL</td>\n",
       "      <td>2022</td>\n",
       "      <td>732.978700</td>\n",
       "    </tr>\n",
       "    <tr>\n",
       "      <th>2086</th>\n",
       "      <td>Germany</td>\n",
       "      <td>DEU</td>\n",
       "      <td>2022</td>\n",
       "      <td>420.106540</td>\n",
       "    </tr>\n",
       "    <tr>\n",
       "      <th>2662</th>\n",
       "      <td>Italy</td>\n",
       "      <td>ITA</td>\n",
       "      <td>2022</td>\n",
       "      <td>378.163240</td>\n",
       "    </tr>\n",
       "    <tr>\n",
       "      <th>4924</th>\n",
       "      <td>Spain</td>\n",
       "      <td>ESP</td>\n",
       "      <td>2022</td>\n",
       "      <td>217.133900</td>\n",
       "    </tr>\n",
       "    <tr>\n",
       "      <th>1892</th>\n",
       "      <td>France</td>\n",
       "      <td>FRA</td>\n",
       "      <td>2022</td>\n",
       "      <td>78.550240</td>\n",
       "    </tr>\n",
       "    <tr>\n",
       "      <th>5020</th>\n",
       "      <td>Sweden</td>\n",
       "      <td>SWE</td>\n",
       "      <td>2022</td>\n",
       "      <td>41.028603</td>\n",
       "    </tr>\n",
       "  </tbody>\n",
       "</table>\n",
       "</div>"
      ],
      "text/plain": [
       "       Entity Code  Year  co2_intensity__gco2_kwh\n",
       "4234   Poland  POL  2022               732.978700\n",
       "2086  Germany  DEU  2022               420.106540\n",
       "2662    Italy  ITA  2022               378.163240\n",
       "4924    Spain  ESP  2022               217.133900\n",
       "1892   France  FRA  2022                78.550240\n",
       "5020   Sweden  SWE  2022                41.028603"
      ]
     },
     "execution_count": 26,
     "metadata": {},
     "output_type": "execute_result"
    }
   ],
   "source": [
    "filtered_df"
   ]
  },
  {
   "cell_type": "markdown",
   "id": "fc2c3cd3-e758-402b-9509-47b681246af9",
   "metadata": {},
   "source": [
    "#### Build a merged Dataframe for CO2_intensity and fossil_share_of_electricity \n",
    "##### This data is used for visualization with Tableau"
   ]
  },
  {
   "cell_type": "code",
   "execution_count": 27,
   "id": "1365afc1-f868-4c6d-beda-07f05b63c2d3",
   "metadata": {},
   "outputs": [],
   "source": [
    "carbon_intensity_2022 = carbon_intensity[carbon_intensity['Year']==2022]"
   ]
  },
  {
   "cell_type": "code",
   "execution_count": 28,
   "id": "bbea9f84-8e74-4bde-a07f-07d4bbb68e2e",
   "metadata": {},
   "outputs": [],
   "source": [
    "fossil_share_2022 = electricity_from_fossil_fuels[electricity_from_fossil_fuels['Year']==2022]"
   ]
  },
  {
   "cell_type": "code",
   "execution_count": 29,
   "id": "6dd802d6-9723-4876-a6a0-120bb4ed40d6",
   "metadata": {},
   "outputs": [
    {
     "data": {
      "text/html": [
       "<div>\n",
       "<style scoped>\n",
       "    .dataframe tbody tr th:only-of-type {\n",
       "        vertical-align: middle;\n",
       "    }\n",
       "\n",
       "    .dataframe tbody tr th {\n",
       "        vertical-align: top;\n",
       "    }\n",
       "\n",
       "    .dataframe thead th {\n",
       "        text-align: right;\n",
       "    }\n",
       "</style>\n",
       "<table border=\"1\" class=\"dataframe\">\n",
       "  <thead>\n",
       "    <tr style=\"text-align: right;\">\n",
       "      <th></th>\n",
       "      <th>Entity</th>\n",
       "      <th>Code_x</th>\n",
       "      <th>Year_x</th>\n",
       "      <th>co2_intensity__gco2_kwh</th>\n",
       "      <th>Code_y</th>\n",
       "      <th>Year_y</th>\n",
       "      <th>fossil_share_of_electricity__pct</th>\n",
       "    </tr>\n",
       "  </thead>\n",
       "  <tbody>\n",
       "    <tr>\n",
       "      <th>0</th>\n",
       "      <td>ASEAN (Ember)</td>\n",
       "      <td>NaN</td>\n",
       "      <td>2022</td>\n",
       "      <td>554.267640</td>\n",
       "      <td>NaN</td>\n",
       "      <td>2022</td>\n",
       "      <td>71.917850</td>\n",
       "    </tr>\n",
       "    <tr>\n",
       "      <th>1</th>\n",
       "      <td>Afghanistan</td>\n",
       "      <td>AFG</td>\n",
       "      <td>2022</td>\n",
       "      <td>125.000000</td>\n",
       "      <td>AFG</td>\n",
       "      <td>2022</td>\n",
       "      <td>13.541666</td>\n",
       "    </tr>\n",
       "    <tr>\n",
       "      <th>2</th>\n",
       "      <td>Africa</td>\n",
       "      <td>NaN</td>\n",
       "      <td>2022</td>\n",
       "      <td>550.250200</td>\n",
       "      <td>NaN</td>\n",
       "      <td>2022</td>\n",
       "      <td>75.112090</td>\n",
       "    </tr>\n",
       "    <tr>\n",
       "      <th>3</th>\n",
       "      <td>Africa (Ember)</td>\n",
       "      <td>NaN</td>\n",
       "      <td>2022</td>\n",
       "      <td>550.283200</td>\n",
       "      <td>NaN</td>\n",
       "      <td>2022</td>\n",
       "      <td>75.114510</td>\n",
       "    </tr>\n",
       "    <tr>\n",
       "      <th>4</th>\n",
       "      <td>Albania</td>\n",
       "      <td>ALB</td>\n",
       "      <td>2022</td>\n",
       "      <td>24.390245</td>\n",
       "      <td>ALB</td>\n",
       "      <td>2022</td>\n",
       "      <td>0.000000</td>\n",
       "    </tr>\n",
       "    <tr>\n",
       "      <th>...</th>\n",
       "      <td>...</td>\n",
       "      <td>...</td>\n",
       "      <td>...</td>\n",
       "      <td>...</td>\n",
       "      <td>...</td>\n",
       "      <td>...</td>\n",
       "      <td>...</td>\n",
       "    </tr>\n",
       "    <tr>\n",
       "      <th>232</th>\n",
       "      <td>Vietnam</td>\n",
       "      <td>VNM</td>\n",
       "      <td>2022</td>\n",
       "      <td>415.487950</td>\n",
       "      <td>VNM</td>\n",
       "      <td>2022</td>\n",
       "      <td>50.537514</td>\n",
       "    </tr>\n",
       "    <tr>\n",
       "      <th>233</th>\n",
       "      <td>World</td>\n",
       "      <td>OWID_WRL</td>\n",
       "      <td>2022</td>\n",
       "      <td>489.745400</td>\n",
       "      <td>OWID_WRL</td>\n",
       "      <td>2022</td>\n",
       "      <td>61.384220</td>\n",
       "    </tr>\n",
       "    <tr>\n",
       "      <th>234</th>\n",
       "      <td>Yemen</td>\n",
       "      <td>YEM</td>\n",
       "      <td>2022</td>\n",
       "      <td>584.158400</td>\n",
       "      <td>YEM</td>\n",
       "      <td>2022</td>\n",
       "      <td>83.168320</td>\n",
       "    </tr>\n",
       "    <tr>\n",
       "      <th>235</th>\n",
       "      <td>Zambia</td>\n",
       "      <td>ZMB</td>\n",
       "      <td>2022</td>\n",
       "      <td>111.967130</td>\n",
       "      <td>ZMB</td>\n",
       "      <td>2022</td>\n",
       "      <td>11.093991</td>\n",
       "    </tr>\n",
       "    <tr>\n",
       "      <th>236</th>\n",
       "      <td>Zimbabwe</td>\n",
       "      <td>ZWE</td>\n",
       "      <td>2022</td>\n",
       "      <td>297.539180</td>\n",
       "      <td>ZWE</td>\n",
       "      <td>2022</td>\n",
       "      <td>32.662193</td>\n",
       "    </tr>\n",
       "  </tbody>\n",
       "</table>\n",
       "<p>237 rows × 7 columns</p>\n",
       "</div>"
      ],
      "text/plain": [
       "             Entity    Code_x  Year_x  co2_intensity__gco2_kwh    Code_y  \\\n",
       "0     ASEAN (Ember)       NaN    2022               554.267640       NaN   \n",
       "1       Afghanistan       AFG    2022               125.000000       AFG   \n",
       "2            Africa       NaN    2022               550.250200       NaN   \n",
       "3    Africa (Ember)       NaN    2022               550.283200       NaN   \n",
       "4           Albania       ALB    2022                24.390245       ALB   \n",
       "..              ...       ...     ...                      ...       ...   \n",
       "232         Vietnam       VNM    2022               415.487950       VNM   \n",
       "233           World  OWID_WRL    2022               489.745400  OWID_WRL   \n",
       "234           Yemen       YEM    2022               584.158400       YEM   \n",
       "235          Zambia       ZMB    2022               111.967130       ZMB   \n",
       "236        Zimbabwe       ZWE    2022               297.539180       ZWE   \n",
       "\n",
       "     Year_y  fossil_share_of_electricity__pct  \n",
       "0      2022                         71.917850  \n",
       "1      2022                         13.541666  \n",
       "2      2022                         75.112090  \n",
       "3      2022                         75.114510  \n",
       "4      2022                          0.000000  \n",
       "..      ...                               ...  \n",
       "232    2022                         50.537514  \n",
       "233    2022                         61.384220  \n",
       "234    2022                         83.168320  \n",
       "235    2022                         11.093991  \n",
       "236    2022                         32.662193  \n",
       "\n",
       "[237 rows x 7 columns]"
      ]
     },
     "execution_count": 29,
     "metadata": {},
     "output_type": "execute_result"
    }
   ],
   "source": [
    "data_world_2022 = pd.merge(carbon_intensity_2022,fossil_share_2022,on='Entity', how='inner')\n",
    "data_world_2022"
   ]
  },
  {
   "cell_type": "code",
   "execution_count": 30,
   "id": "a2ba284f-b55f-448f-a918-27b1bde4d9ed",
   "metadata": {},
   "outputs": [],
   "source": [
    "data_world_2022 = data_world_2022.drop(columns=['Code_x','Code_y','Year_y'])"
   ]
  },
  {
   "cell_type": "code",
   "execution_count": 31,
   "id": "d87b2d21-a43b-43f7-9b82-9a19162654d7",
   "metadata": {},
   "outputs": [],
   "source": [
    "data_world_2022 = data_world_2022.rename(columns={'Year_x':'Year',\n",
    "                        'co2_intensity__gco2_kwh':'CO2_intensity(g/kwh)',\n",
    "                        'fossil_share_of_electricity__pct':'fossil_share(%)'}) "
   ]
  },
  {
   "cell_type": "code",
   "execution_count": 32,
   "id": "567fd0fc-06f7-40b7-aba9-9df174af4efc",
   "metadata": {},
   "outputs": [
    {
     "data": {
      "text/html": [
       "<div>\n",
       "<style scoped>\n",
       "    .dataframe tbody tr th:only-of-type {\n",
       "        vertical-align: middle;\n",
       "    }\n",
       "\n",
       "    .dataframe tbody tr th {\n",
       "        vertical-align: top;\n",
       "    }\n",
       "\n",
       "    .dataframe thead th {\n",
       "        text-align: right;\n",
       "    }\n",
       "</style>\n",
       "<table border=\"1\" class=\"dataframe\">\n",
       "  <thead>\n",
       "    <tr style=\"text-align: right;\">\n",
       "      <th></th>\n",
       "      <th>Entity</th>\n",
       "      <th>Year</th>\n",
       "      <th>CO2_intensity(g/kwh)</th>\n",
       "      <th>fossil_share(%)</th>\n",
       "    </tr>\n",
       "  </thead>\n",
       "  <tbody>\n",
       "    <tr>\n",
       "      <th>0</th>\n",
       "      <td>ASEAN (Ember)</td>\n",
       "      <td>2022</td>\n",
       "      <td>554.267640</td>\n",
       "      <td>71.917850</td>\n",
       "    </tr>\n",
       "    <tr>\n",
       "      <th>1</th>\n",
       "      <td>Afghanistan</td>\n",
       "      <td>2022</td>\n",
       "      <td>125.000000</td>\n",
       "      <td>13.541666</td>\n",
       "    </tr>\n",
       "    <tr>\n",
       "      <th>2</th>\n",
       "      <td>Africa</td>\n",
       "      <td>2022</td>\n",
       "      <td>550.250200</td>\n",
       "      <td>75.112090</td>\n",
       "    </tr>\n",
       "    <tr>\n",
       "      <th>3</th>\n",
       "      <td>Africa (Ember)</td>\n",
       "      <td>2022</td>\n",
       "      <td>550.283200</td>\n",
       "      <td>75.114510</td>\n",
       "    </tr>\n",
       "    <tr>\n",
       "      <th>4</th>\n",
       "      <td>Albania</td>\n",
       "      <td>2022</td>\n",
       "      <td>24.390245</td>\n",
       "      <td>0.000000</td>\n",
       "    </tr>\n",
       "    <tr>\n",
       "      <th>...</th>\n",
       "      <td>...</td>\n",
       "      <td>...</td>\n",
       "      <td>...</td>\n",
       "      <td>...</td>\n",
       "    </tr>\n",
       "    <tr>\n",
       "      <th>232</th>\n",
       "      <td>Vietnam</td>\n",
       "      <td>2022</td>\n",
       "      <td>415.487950</td>\n",
       "      <td>50.537514</td>\n",
       "    </tr>\n",
       "    <tr>\n",
       "      <th>233</th>\n",
       "      <td>World</td>\n",
       "      <td>2022</td>\n",
       "      <td>489.745400</td>\n",
       "      <td>61.384220</td>\n",
       "    </tr>\n",
       "    <tr>\n",
       "      <th>234</th>\n",
       "      <td>Yemen</td>\n",
       "      <td>2022</td>\n",
       "      <td>584.158400</td>\n",
       "      <td>83.168320</td>\n",
       "    </tr>\n",
       "    <tr>\n",
       "      <th>235</th>\n",
       "      <td>Zambia</td>\n",
       "      <td>2022</td>\n",
       "      <td>111.967130</td>\n",
       "      <td>11.093991</td>\n",
       "    </tr>\n",
       "    <tr>\n",
       "      <th>236</th>\n",
       "      <td>Zimbabwe</td>\n",
       "      <td>2022</td>\n",
       "      <td>297.539180</td>\n",
       "      <td>32.662193</td>\n",
       "    </tr>\n",
       "  </tbody>\n",
       "</table>\n",
       "<p>237 rows × 4 columns</p>\n",
       "</div>"
      ],
      "text/plain": [
       "             Entity  Year  CO2_intensity(g/kwh)  fossil_share(%)\n",
       "0     ASEAN (Ember)  2022            554.267640        71.917850\n",
       "1       Afghanistan  2022            125.000000        13.541666\n",
       "2            Africa  2022            550.250200        75.112090\n",
       "3    Africa (Ember)  2022            550.283200        75.114510\n",
       "4           Albania  2022             24.390245         0.000000\n",
       "..              ...   ...                   ...              ...\n",
       "232         Vietnam  2022            415.487950        50.537514\n",
       "233           World  2022            489.745400        61.384220\n",
       "234           Yemen  2022            584.158400        83.168320\n",
       "235          Zambia  2022            111.967130        11.093991\n",
       "236        Zimbabwe  2022            297.539180        32.662193\n",
       "\n",
       "[237 rows x 4 columns]"
      ]
     },
     "execution_count": 32,
     "metadata": {},
     "output_type": "execute_result"
    }
   ],
   "source": [
    "data_world_2022"
   ]
  },
  {
   "cell_type": "code",
   "execution_count": 33,
   "id": "e6b2cca7-187c-4c13-8220-6f64ed4b1b23",
   "metadata": {},
   "outputs": [],
   "source": [
    "# Save the filtered dataset (2022 only) as a CSV\n",
    "# This file will later be used in Tableau for visualization\n",
    "\n",
    "data_world_2022.to_csv('data_world_2022.csv', index=False)"
   ]
  },
  {
   "cell_type": "markdown",
   "id": "9cbdf731-9cda-499b-96fb-3976a611e595",
   "metadata": {},
   "source": [
    "---"
   ]
  },
  {
   "cell_type": "markdown",
   "id": "7eb77592-cb54-479c-8db5-e6570f26bef0",
   "metadata": {},
   "source": [
    "### Explore and download the full data behind the Global EV Outlook"
   ]
  },
  {
   "cell_type": "code",
   "execution_count": 57,
   "id": "7ee4c141-87d5-4b29-990b-4c8f4f20a745",
   "metadata": {},
   "outputs": [],
   "source": [
    "# Share of electric car stocks\n",
    "# Source: Our World in Data \n",
    "# URL: https://ourworldindata.org/grapher/share-car-stocks-electric\n",
    "\n",
    "#ev_share_df = pd.read_csv(\"data/share-car-stocks-electric.csv\")"
   ]
  },
  {
   "cell_type": "code",
   "execution_count": 35,
   "id": "844dd79c-7bec-48dd-80bd-3f9af84d6651",
   "metadata": {},
   "outputs": [],
   "source": [
    "ev_share_df = pd.read_csv(\"C:/Users/Fariba/Zahra/Final_Project_Data/share-car-stocks-electric.csv\")"
   ]
  },
  {
   "cell_type": "code",
   "execution_count": 36,
   "id": "c67fcf36-7a67-4d1e-9c6f-d0684a9d5586",
   "metadata": {},
   "outputs": [
    {
     "name": "stdout",
     "output_type": "stream",
     "text": [
      "<class 'pandas.core.frame.DataFrame'>\n",
      "RangeIndex: 30 entries, 0 to 29\n",
      "Data columns (total 5 columns):\n",
      " #   Column                                 Non-Null Count  Dtype  \n",
      "---  ------                                 --------------  -----  \n",
      " 0   Entity                                 30 non-null     object \n",
      " 1   Code                                   30 non-null     object \n",
      " 2   Year                                   30 non-null     int64  \n",
      " 3   Share of car stocks that are electric  30 non-null     float64\n",
      " 4   time                                   30 non-null     int64  \n",
      "dtypes: float64(1), int64(2), object(2)\n",
      "memory usage: 1.3+ KB\n"
     ]
    }
   ],
   "source": [
    "ev_share_df.info()"
   ]
  },
  {
   "cell_type": "code",
   "execution_count": 37,
   "id": "66b30080-e64c-49e1-a5e4-f121964a2f6e",
   "metadata": {},
   "outputs": [
    {
     "data": {
      "text/html": [
       "<div>\n",
       "<style scoped>\n",
       "    .dataframe tbody tr th:only-of-type {\n",
       "        vertical-align: middle;\n",
       "    }\n",
       "\n",
       "    .dataframe tbody tr th {\n",
       "        vertical-align: top;\n",
       "    }\n",
       "\n",
       "    .dataframe thead th {\n",
       "        text-align: right;\n",
       "    }\n",
       "</style>\n",
       "<table border=\"1\" class=\"dataframe\">\n",
       "  <thead>\n",
       "    <tr style=\"text-align: right;\">\n",
       "      <th></th>\n",
       "      <th>Entity</th>\n",
       "      <th>Code</th>\n",
       "      <th>Year</th>\n",
       "      <th>Share of car stocks that are electric</th>\n",
       "      <th>time</th>\n",
       "    </tr>\n",
       "  </thead>\n",
       "  <tbody>\n",
       "    <tr>\n",
       "      <th>25</th>\n",
       "      <td>Sweden</td>\n",
       "      <td>SWE</td>\n",
       "      <td>2024</td>\n",
       "      <td>13.00</td>\n",
       "      <td>2024</td>\n",
       "    </tr>\n",
       "    <tr>\n",
       "      <th>5</th>\n",
       "      <td>Chile</td>\n",
       "      <td>CHL</td>\n",
       "      <td>2024</td>\n",
       "      <td>0.26</td>\n",
       "      <td>2024</td>\n",
       "    </tr>\n",
       "    <tr>\n",
       "      <th>13</th>\n",
       "      <td>India</td>\n",
       "      <td>IND</td>\n",
       "      <td>2024</td>\n",
       "      <td>0.48</td>\n",
       "      <td>2024</td>\n",
       "    </tr>\n",
       "    <tr>\n",
       "      <th>21</th>\n",
       "      <td>Poland</td>\n",
       "      <td>POL</td>\n",
       "      <td>2024</td>\n",
       "      <td>1.10</td>\n",
       "      <td>2024</td>\n",
       "    </tr>\n",
       "    <tr>\n",
       "      <th>12</th>\n",
       "      <td>Iceland</td>\n",
       "      <td>ISL</td>\n",
       "      <td>2024</td>\n",
       "      <td>18.00</td>\n",
       "      <td>2024</td>\n",
       "    </tr>\n",
       "    <tr>\n",
       "      <th>14</th>\n",
       "      <td>Israel</td>\n",
       "      <td>ISR</td>\n",
       "      <td>2024</td>\n",
       "      <td>5.90</td>\n",
       "      <td>2024</td>\n",
       "    </tr>\n",
       "    <tr>\n",
       "      <th>26</th>\n",
       "      <td>Switzerland</td>\n",
       "      <td>CHE</td>\n",
       "      <td>2024</td>\n",
       "      <td>7.30</td>\n",
       "      <td>2024</td>\n",
       "    </tr>\n",
       "    <tr>\n",
       "      <th>28</th>\n",
       "      <td>United Kingdom</td>\n",
       "      <td>GBR</td>\n",
       "      <td>2024</td>\n",
       "      <td>6.40</td>\n",
       "      <td>2024</td>\n",
       "    </tr>\n",
       "    <tr>\n",
       "      <th>17</th>\n",
       "      <td>Mexico</td>\n",
       "      <td>MEX</td>\n",
       "      <td>2024</td>\n",
       "      <td>0.30</td>\n",
       "      <td>2024</td>\n",
       "    </tr>\n",
       "    <tr>\n",
       "      <th>20</th>\n",
       "      <td>Norway</td>\n",
       "      <td>NOR</td>\n",
       "      <td>2024</td>\n",
       "      <td>32.00</td>\n",
       "      <td>2024</td>\n",
       "    </tr>\n",
       "  </tbody>\n",
       "</table>\n",
       "</div>"
      ],
      "text/plain": [
       "            Entity Code  Year  Share of car stocks that are electric  time\n",
       "25          Sweden  SWE  2024                                  13.00  2024\n",
       "5            Chile  CHL  2024                                   0.26  2024\n",
       "13           India  IND  2024                                   0.48  2024\n",
       "21          Poland  POL  2024                                   1.10  2024\n",
       "12         Iceland  ISL  2024                                  18.00  2024\n",
       "14          Israel  ISR  2024                                   5.90  2024\n",
       "26     Switzerland  CHE  2024                                   7.30  2024\n",
       "28  United Kingdom  GBR  2024                                   6.40  2024\n",
       "17          Mexico  MEX  2024                                   0.30  2024\n",
       "20          Norway  NOR  2024                                  32.00  2024"
      ]
     },
     "execution_count": 37,
     "metadata": {},
     "output_type": "execute_result"
    }
   ],
   "source": [
    "ev_share_df.sample(10)"
   ]
  },
  {
   "cell_type": "markdown",
   "id": "282d4b37-2889-4afa-93f2-a94fd5688f21",
   "metadata": {},
   "source": [
    "---"
   ]
  },
  {
   "cell_type": "markdown",
   "id": "d18f9453-c3a8-418e-89ab-a4b81aaa1697",
   "metadata": {},
   "source": [
    "## Top Lithium Producing Countries"
   ]
  },
  {
   "cell_type": "code",
   "execution_count": 46,
   "id": "851b984d-a8a9-48d2-a32a-39eb1e94b0cf",
   "metadata": {},
   "outputs": [],
   "source": [
    "# Global lithium production\n",
    "# Source: Our World in Data \n",
    "# https://ourworldindata.org/grapher/lithium-production\n",
    "\n",
    "Li_share_countries = pd.read_csv(\"C:/Users/Fariba/Zahra/Final_Project_Data/lithium-production.csv\")"
   ]
  },
  {
   "cell_type": "code",
   "execution_count": 47,
   "id": "0f3fdd9f-5c7d-47e7-b693-5e8b899d1e5a",
   "metadata": {},
   "outputs": [],
   "source": [
    "Li_share_countries = Li_share_countries[(Li_share_countries['Year'] == 2024)]"
   ]
  },
  {
   "cell_type": "code",
   "execution_count": 48,
   "id": "1044c42e-11a7-43d2-8c12-16bb4d507c9a",
   "metadata": {},
   "outputs": [
    {
     "data": {
      "text/html": [
       "<div>\n",
       "<style scoped>\n",
       "    .dataframe tbody tr th:only-of-type {\n",
       "        vertical-align: middle;\n",
       "    }\n",
       "\n",
       "    .dataframe tbody tr th {\n",
       "        vertical-align: top;\n",
       "    }\n",
       "\n",
       "    .dataframe thead th {\n",
       "        text-align: right;\n",
       "    }\n",
       "</style>\n",
       "<table border=\"1\" class=\"dataframe\">\n",
       "  <thead>\n",
       "    <tr style=\"text-align: right;\">\n",
       "      <th></th>\n",
       "      <th>Entity</th>\n",
       "      <th>Code</th>\n",
       "      <th>Year</th>\n",
       "      <th>Lithium production - kt</th>\n",
       "    </tr>\n",
       "  </thead>\n",
       "  <tbody>\n",
       "    <tr>\n",
       "      <th>29</th>\n",
       "      <td>Argentina</td>\n",
       "      <td>ARG</td>\n",
       "      <td>2024</td>\n",
       "      <td>18000.0000</td>\n",
       "    </tr>\n",
       "    <tr>\n",
       "      <th>59</th>\n",
       "      <td>Asia</td>\n",
       "      <td>NaN</td>\n",
       "      <td>2024</td>\n",
       "      <td>41000.0000</td>\n",
       "    </tr>\n",
       "    <tr>\n",
       "      <th>89</th>\n",
       "      <td>Australia</td>\n",
       "      <td>AUS</td>\n",
       "      <td>2024</td>\n",
       "      <td>88000.0000</td>\n",
       "    </tr>\n",
       "    <tr>\n",
       "      <th>119</th>\n",
       "      <td>Brazil</td>\n",
       "      <td>BRA</td>\n",
       "      <td>2024</td>\n",
       "      <td>10000.0000</td>\n",
       "    </tr>\n",
       "    <tr>\n",
       "      <th>149</th>\n",
       "      <td>Chile</td>\n",
       "      <td>CHL</td>\n",
       "      <td>2024</td>\n",
       "      <td>56928.4320</td>\n",
       "    </tr>\n",
       "    <tr>\n",
       "      <th>179</th>\n",
       "      <td>China</td>\n",
       "      <td>CHN</td>\n",
       "      <td>2024</td>\n",
       "      <td>41000.0000</td>\n",
       "    </tr>\n",
       "    <tr>\n",
       "      <th>209</th>\n",
       "      <td>Europe</td>\n",
       "      <td>NaN</td>\n",
       "      <td>2024</td>\n",
       "      <td>380.0000</td>\n",
       "    </tr>\n",
       "    <tr>\n",
       "      <th>239</th>\n",
       "      <td>High-income countries</td>\n",
       "      <td>NaN</td>\n",
       "      <td>2024</td>\n",
       "      <td>146228.9900</td>\n",
       "    </tr>\n",
       "    <tr>\n",
       "      <th>269</th>\n",
       "      <td>Lower-middle-income countries</td>\n",
       "      <td>NaN</td>\n",
       "      <td>2024</td>\n",
       "      <td>22000.0000</td>\n",
       "    </tr>\n",
       "    <tr>\n",
       "      <th>299</th>\n",
       "      <td>North America</td>\n",
       "      <td>NaN</td>\n",
       "      <td>2024</td>\n",
       "      <td>920.5630</td>\n",
       "    </tr>\n",
       "    <tr>\n",
       "      <th>329</th>\n",
       "      <td>Oceania</td>\n",
       "      <td>NaN</td>\n",
       "      <td>2024</td>\n",
       "      <td>88000.0000</td>\n",
       "    </tr>\n",
       "    <tr>\n",
       "      <th>359</th>\n",
       "      <td>Portugal</td>\n",
       "      <td>PRT</td>\n",
       "      <td>2024</td>\n",
       "      <td>380.0000</td>\n",
       "    </tr>\n",
       "    <tr>\n",
       "      <th>389</th>\n",
       "      <td>Rest of World (EI)</td>\n",
       "      <td>NaN</td>\n",
       "      <td>2024</td>\n",
       "      <td>7407.8035</td>\n",
       "    </tr>\n",
       "    <tr>\n",
       "      <th>419</th>\n",
       "      <td>South America</td>\n",
       "      <td>NaN</td>\n",
       "      <td>2024</td>\n",
       "      <td>84928.4400</td>\n",
       "    </tr>\n",
       "    <tr>\n",
       "      <th>449</th>\n",
       "      <td>United States</td>\n",
       "      <td>USA</td>\n",
       "      <td>2024</td>\n",
       "      <td>920.5630</td>\n",
       "    </tr>\n",
       "    <tr>\n",
       "      <th>479</th>\n",
       "      <td>Upper-middle-income countries</td>\n",
       "      <td>NaN</td>\n",
       "      <td>2024</td>\n",
       "      <td>69000.0000</td>\n",
       "    </tr>\n",
       "    <tr>\n",
       "      <th>509</th>\n",
       "      <td>World</td>\n",
       "      <td>OWID_WRL</td>\n",
       "      <td>2024</td>\n",
       "      <td>244636.8000</td>\n",
       "    </tr>\n",
       "    <tr>\n",
       "      <th>539</th>\n",
       "      <td>Zimbabwe</td>\n",
       "      <td>ZWE</td>\n",
       "      <td>2024</td>\n",
       "      <td>22000.0000</td>\n",
       "    </tr>\n",
       "  </tbody>\n",
       "</table>\n",
       "</div>"
      ],
      "text/plain": [
       "                            Entity      Code  Year  Lithium production - kt\n",
       "29                       Argentina       ARG  2024               18000.0000\n",
       "59                            Asia       NaN  2024               41000.0000\n",
       "89                       Australia       AUS  2024               88000.0000\n",
       "119                         Brazil       BRA  2024               10000.0000\n",
       "149                          Chile       CHL  2024               56928.4320\n",
       "179                          China       CHN  2024               41000.0000\n",
       "209                         Europe       NaN  2024                 380.0000\n",
       "239          High-income countries       NaN  2024              146228.9900\n",
       "269  Lower-middle-income countries       NaN  2024               22000.0000\n",
       "299                  North America       NaN  2024                 920.5630\n",
       "329                        Oceania       NaN  2024               88000.0000\n",
       "359                       Portugal       PRT  2024                 380.0000\n",
       "389             Rest of World (EI)       NaN  2024                7407.8035\n",
       "419                  South America       NaN  2024               84928.4400\n",
       "449                  United States       USA  2024                 920.5630\n",
       "479  Upper-middle-income countries       NaN  2024               69000.0000\n",
       "509                          World  OWID_WRL  2024              244636.8000\n",
       "539                       Zimbabwe       ZWE  2024               22000.0000"
      ]
     },
     "execution_count": 48,
     "metadata": {},
     "output_type": "execute_result"
    }
   ],
   "source": [
    "Li_share_countries"
   ]
  },
  {
   "cell_type": "code",
   "execution_count": 49,
   "id": "5a9f587a-0444-44c3-93b9-0adad97284f0",
   "metadata": {},
   "outputs": [],
   "source": [
    "# Filter countries\n",
    "key_entities = ['USA', 'Argentina', 'Australia', 'Chile', 'China', 'Zimbabwe']\n",
    "Li_share_countries = Li_share_countries[(Li_share_countries['Year'] == 2024) &\n",
    "                    (Li_share_countries['Entity'].isin(key_entities + ['World']))]\n",
    "\n",
    "Li_share_countries = Li_share_countries.copy()\n",
    "\n",
    "# Calculate share percentage\n",
    "Li_share_countries.loc[:,'share_pct'] = 100 * Li_share_countries['Lithium production - kt'] /Li_share_countries.loc[Li_share_countries['Entity'] == 'World', 'Lithium production - kt'].values[0]\n"
   ]
  },
  {
   "cell_type": "code",
   "execution_count": 50,
   "id": "d6c86d76-6b62-4ae0-a9f2-f66fec196b4c",
   "metadata": {},
   "outputs": [],
   "source": [
    "filtered = Li_share_countries[Li_share_countries['Entity'].isin(key_entities)]"
   ]
  },
  {
   "cell_type": "code",
   "execution_count": 56,
   "id": "213c3f47-8b1d-4a80-a23e-9147a9ba45ec",
   "metadata": {},
   "outputs": [
    {
     "data": {
      "image/png": "[encoded data removed]",
      "text/plain": [
       "<Figure size 600x600 with 1 Axes>"
      ]
     },
     "metadata": {},
     "output_type": "display_data"
    }
   ],
   "source": [
    "# Pie chart\n",
    "plt.figure(figsize=(6, 6))\n",
    "plt.pie(filtered['share_pct'], labels=filtered['Entity'], autopct='%1.1f%%')\n",
    "plt.title('Global Market Share of Lithium Production (2024)')\n",
    "plt.show()\n"
   ]
  },
  {
   "cell_type": "markdown",
   "id": "85ee6395-382c-4bca-a344-68b43414a549",
   "metadata": {},
   "source": [
    "---"
   ]
  },
  {
   "cell_type": "code",
   "execution_count": null,
   "id": "a1d51f21-fc4a-4c6c-96f6-4fc0d643ced4",
   "metadata": {},
   "outputs": [],
   "source": []
  },
  {
   "cell_type": "code",
   "execution_count": null,
   "id": "6b1a263d-a31e-4212-bae9-f4a5af3b804c",
   "metadata": {},
   "outputs": [],
   "source": []
  }
 ],
 "metadata": {
  "kernelspec": {
   "display_name": "Python [conda env:base] *",
   "language": "python",
   "name": "conda-base-py"
  },
  "language_info": {
   "codemirror_mode": {
    "name": "ipython",
    "version": 3
   },
   "file_extension": ".py",
   "mimetype": "text/x-python",
   "name": "python",
   "nbconvert_exporter": "python",
   "pygments_lexer": "ipython3",
   "version": "3.12.7"
  }
 },
 "nbformat": 4,
 "nbformat_minor": 5
}
